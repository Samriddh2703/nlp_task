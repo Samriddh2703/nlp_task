{
  "nbformat": 4,
  "nbformat_minor": 0,
  "metadata": {
    "colab": {
      "provenance": [],
      "authorship_tag": "ABX9TyMc8Gfv7josDiyfS/lHUu9o",
      "include_colab_link": true
    },
    "kernelspec": {
      "name": "python3",
      "display_name": "Python 3"
    },
    "language_info": {
      "name": "python"
    }
  },
  "cells": [
    {
      "cell_type": "markdown",
      "metadata": {
        "id": "view-in-github",
        "colab_type": "text"
      },
      "source": [
        "<a href=\"https://colab.research.google.com/github/Samriddh2703/nlp_task/blob/main/NLPday4.ipynb\" target=\"_parent\"><img src=\"https://colab.research.google.com/assets/colab-badge.svg\" alt=\"Open In Colab\"/></a>"
      ]
    },
    {
      "cell_type": "code",
      "execution_count": 73,
      "metadata": {
        "id": "PurMD94p-PXJ"
      },
      "outputs": [],
      "source": [
        "import nltk"
      ]
    },
    {
      "cell_type": "code",
      "source": [
        "from sklearn.feature_extraction.text import CountVectorizer"
      ],
      "metadata": {
        "id": "rKmbp8SYAFt1"
      },
      "execution_count": 74,
      "outputs": []
    },
    {
      "cell_type": "code",
      "source": [
        "vect = CountVectorizer(binary=True)"
      ],
      "metadata": {
        "id": "Hy16z5yiAHkr"
      },
      "execution_count": 75,
      "outputs": []
    },
    {
      "cell_type": "code",
      "source": [
        "corpus = [\"I have a German Shepherd\", \"Gernman Shrepherd is from Germany\", \"German loves gossiping\"]"
      ],
      "metadata": {
        "id": "qcUb9Re8AJN-"
      },
      "execution_count": 76,
      "outputs": []
    },
    {
      "cell_type": "code",
      "source": [
        "vect.fit(corpus)"
      ],
      "metadata": {
        "colab": {
          "base_uri": "https://localhost:8080/"
        },
        "id": "H-sLkorVAM-6",
        "outputId": "770c0046-5080-46c3-b696-f1c448164c4c"
      },
      "execution_count": 77,
      "outputs": [
        {
          "output_type": "execute_result",
          "data": {
            "text/plain": [
              "CountVectorizer(binary=True)"
            ]
          },
          "metadata": {},
          "execution_count": 77
        }
      ]
    },
    {
      "cell_type": "code",
      "source": [
        "vocab=vect.vocabulary_"
      ],
      "metadata": {
        "id": "wD5cPMbuAQ8m"
      },
      "execution_count": 78,
      "outputs": []
    },
    {
      "cell_type": "code",
      "source": [
        "for key in sorted(vocab.keys()):\n",
        "  print(\"{}:{}\".format(key, vocab[key]))"
      ],
      "metadata": {
        "colab": {
          "base_uri": "https://localhost:8080/"
        },
        "id": "ZILsPRFwATMJ",
        "outputId": "e2b3c389-b1a4-4154-ae62-82f4cce695e9"
      },
      "execution_count": 79,
      "outputs": [
        {
          "output_type": "stream",
          "name": "stdout",
          "text": [
            "from:0\n",
            "german:1\n",
            "germany:2\n",
            "gernman:3\n",
            "gossiping:4\n",
            "have:5\n",
            "is:6\n",
            "loves:7\n",
            "shepherd:8\n",
            "shrepherd:9\n"
          ]
        }
      ]
    },
    {
      "cell_type": "code",
      "source": [
        "print(vect.transform([\"Germany has German Shepherd\"]).toarray())"
      ],
      "metadata": {
        "colab": {
          "base_uri": "https://localhost:8080/"
        },
        "id": "yVR3yOkMAWWJ",
        "outputId": "b51b929a-1305-4fde-8313-7e6609f15eda"
      },
      "execution_count": 80,
      "outputs": [
        {
          "output_type": "stream",
          "name": "stdout",
          "text": [
            "[[0 1 1 0 0 0 0 0 1 0]]\n"
          ]
        }
      ]
    },
    {
      "cell_type": "code",
      "source": [
        "from sklearn.metrics.pairwise import cosine_similarity\n",
        "similarity=cosine_similarity(vect.transform([\"Germany has German Shepherd\"]).toarray(),vect.transform([\"Germany has Berlin as capital\"]).toarray())"
      ],
      "metadata": {
        "id": "_T1QvKl4AYmJ"
      },
      "execution_count": 81,
      "outputs": []
    },
    {
      "cell_type": "code",
      "source": [
        "print(similarity)"
      ],
      "metadata": {
        "colab": {
          "base_uri": "https://localhost:8080/"
        },
        "id": "ZDmLumifAayy",
        "outputId": "07518b93-b730-43ab-c8d4-7e9bf676ad91"
      },
      "execution_count": 82,
      "outputs": [
        {
          "output_type": "stream",
          "name": "stdout",
          "text": [
            "[[0.57735027]]\n"
          ]
        }
      ]
    },
    {
      "cell_type": "code",
      "source": [
        "#Task - find similarity between two authors:\n",
        "# I took speech of Elon Musk and Mark Zuckerberg on AI:\n",
        "\n",
        "#str1 contains speech of Mark Zuckerberg \n",
        "#str1 contains speech of Elon Musk"
      ],
      "metadata": {
        "id": "yMkfQVwGAdny"
      },
      "execution_count": 83,
      "outputs": []
    },
    {
      "cell_type": "code",
      "source": [
        "from sklearn.feature_extraction.text import TfidfVectorizer"
      ],
      "metadata": {
        "id": "KSsRHXHiA-aM"
      },
      "execution_count": 105,
      "outputs": []
    },
    {
      "cell_type": "code",
      "source": [
        "vect = TfidfVectorizer(binary=True)"
      ],
      "metadata": {
        "id": "DmmhPVgZBuPD"
      },
      "execution_count": 106,
      "outputs": []
    },
    {
      "cell_type": "code",
      "source": [
        "str1= \"So I'm really optimistic about AI. It's one of the most exciting things that we're working on in the industry today. And I think there are a lot of different perspectives on how we should approach this. Some people fear monger about AI, and think that it's going to be the downfall of humanity. But I think that there are a lot of positive things that we can do with AI, and that it's going to improve a lot of different fields. There are a few things that I think we need to focus on when we're building AI. The first is making sure that it's safe and reliable. We don't want to create something that's going to cause harm to people. So we need to think carefully about how we design the algorithms and how we test them, to make sure that they're safe and reliable. The second thing is transparency. We need to make sure that people understand how the algorithms work, and what they're doing. We don't want to create a black box that people can't understand, because then they're not going to be able to trust it. So transparency is really important. The third thing is fairness. We need to make sure that the algorithms aren't biased in any way, and that they treat everyone fairly. This is really important, because if we create algorithms that are biased, then we're going to perpetuate the same problems that we have in society today.\""
      ],
      "metadata": {
        "id": "YAvz6EGGcfI1"
      },
      "execution_count": 98,
      "outputs": []
    },
    {
      "cell_type": "code",
      "source": [
        "str2= \"Well, I'm really quite close, I'm very close to the cutting edge in AI, and it scares the hell out of me. It's capable of vastly more than almost anyone knows, and the rate of improvement is exponential. I am not normally an advocate of regulation and oversight. I think one should generally err on the side of minimizing those things. But this is a case where you have a very serious danger to the public, and therefore there needs to be a public body that has insight and oversight to ensure that everyone is developing AI safely. This is extremely important. I think the danger of AI is much greater than the danger of nuclear warheads by a lot, and nobody would suggest that we allow anyone to just build nuclear warheads if they want. That would be insane. And mark my words: AI is far more dangerous than nukes. So why do we have no regulatory oversight? This is insane. I think it's just the very nature of the technology itself, because it's not a physical thing, like a house or something that has a specific location. It is an intelligence in the network, that can be anywhere and everywhere, and therefore it's probably going to be difficult to have the kind of regulatory oversight that's necessary. But we're going to have to do it.\""
      ],
      "metadata": {
        "id": "X6vaAUAaovEk"
      },
      "execution_count": 99,
      "outputs": []
    },
    {
      "cell_type": "code",
      "source": [
        "corpus = [str1]"
      ],
      "metadata": {
        "id": "vIFYgd0CpPgP"
      },
      "execution_count": 100,
      "outputs": []
    },
    {
      "cell_type": "code",
      "source": [
        "vect.fit(corpus)"
      ],
      "metadata": {
        "colab": {
          "base_uri": "https://localhost:8080/"
        },
        "id": "S_tvg_IVpPnv",
        "outputId": "2cdf70dc-be1e-4c6c-b84f-1a2ebc848b67"
      },
      "execution_count": 101,
      "outputs": [
        {
          "output_type": "execute_result",
          "data": {
            "text/plain": [
              "CountVectorizer(binary=True)"
            ]
          },
          "metadata": {},
          "execution_count": 101
        }
      ]
    },
    {
      "cell_type": "code",
      "source": [
        "vocab=vect.vocabulary_"
      ],
      "metadata": {
        "id": "5CvKIBuMpPt4"
      },
      "execution_count": 102,
      "outputs": []
    },
    {
      "cell_type": "code",
      "source": [
        "for key in sorted(vocab.keys()):\n",
        "  print(\"{}:{}\".format(key, vocab[key]))"
      ],
      "metadata": {
        "colab": {
          "base_uri": "https://localhost:8080/"
        },
        "id": "YFqxDaRSpPw6",
        "outputId": "58001ac2-ef1a-4143-d2e6-bef5618d7b01"
      },
      "execution_count": 103,
      "outputs": [
        {
          "output_type": "stream",
          "name": "stdout",
          "text": [
            "able:0\n",
            "about:1\n",
            "ai:2\n",
            "algorithms:3\n",
            "and:4\n",
            "any:5\n",
            "approach:6\n",
            "are:7\n",
            "aren:8\n",
            "be:9\n",
            "because:10\n",
            "biased:11\n",
            "black:12\n",
            "box:13\n",
            "building:14\n",
            "but:15\n",
            "can:16\n",
            "carefully:17\n",
            "cause:18\n",
            "create:19\n",
            "design:20\n",
            "different:21\n",
            "do:22\n",
            "doing:23\n",
            "don:24\n",
            "downfall:25\n",
            "everyone:26\n",
            "exciting:27\n",
            "fairly:28\n",
            "fairness:29\n",
            "fear:30\n",
            "few:31\n",
            "fields:32\n",
            "first:33\n",
            "focus:34\n",
            "going:35\n",
            "harm:36\n",
            "have:37\n",
            "how:38\n",
            "humanity:39\n",
            "if:40\n",
            "important:41\n",
            "improve:42\n",
            "in:43\n",
            "industry:44\n",
            "is:45\n",
            "it:46\n",
            "lot:47\n",
            "make:48\n",
            "making:49\n",
            "monger:50\n",
            "most:51\n",
            "need:52\n",
            "not:53\n",
            "of:54\n",
            "on:55\n",
            "one:56\n",
            "optimistic:57\n",
            "people:58\n",
            "perpetuate:59\n",
            "perspectives:60\n",
            "positive:61\n",
            "problems:62\n",
            "re:63\n",
            "really:64\n",
            "reliable:65\n",
            "safe:66\n",
            "same:67\n",
            "second:68\n",
            "should:69\n",
            "so:70\n",
            "society:71\n",
            "some:72\n",
            "something:73\n",
            "sure:74\n",
            "test:75\n",
            "that:76\n",
            "the:77\n",
            "them:78\n",
            "then:79\n",
            "there:80\n",
            "they:81\n",
            "thing:82\n",
            "things:83\n",
            "think:84\n",
            "third:85\n",
            "this:86\n",
            "to:87\n",
            "today:88\n",
            "transparency:89\n",
            "treat:90\n",
            "trust:91\n",
            "understand:92\n",
            "want:93\n",
            "way:94\n",
            "we:95\n",
            "what:96\n",
            "when:97\n",
            "with:98\n",
            "work:99\n",
            "working:100\n"
          ]
        }
      ]
    },
    {
      "cell_type": "code",
      "source": [
        "from sklearn.metrics.pairwise import cosine_similarity\n",
        "similarity=cosine_similarity(vect.transform([str1]).toarray(),vect.transform([str2]).toarray())"
      ],
      "metadata": {
        "id": "xcRQEzEVpP0s"
      },
      "execution_count": 93,
      "outputs": []
    },
    {
      "cell_type": "code",
      "source": [
        "print(similarity)"
      ],
      "metadata": {
        "colab": {
          "base_uri": "https://localhost:8080/"
        },
        "id": "u50uoHkupm_7",
        "outputId": "810a3da9-e5f1-4cb4-b8b7-4395f19c0df1"
      },
      "execution_count": 94,
      "outputs": [
        {
          "output_type": "stream",
          "name": "stdout",
          "text": [
            "[[0.59702231]]\n"
          ]
        }
      ]
    },
    {
      "cell_type": "code",
      "source": [
        "# there is a lot of similarity between the two i.e. 59%"
      ],
      "metadata": {
        "id": "ohM5kOSmppxP"
      },
      "execution_count": null,
      "outputs": []
    }
  ]
}